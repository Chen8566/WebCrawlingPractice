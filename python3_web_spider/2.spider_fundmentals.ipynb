{
 "cells": [
  {
   "cell_type": "markdown",
   "metadata": {},
   "source": [
    "大致看了一遍，梳理了一下基本知识很不错"
   ]
  },
  {
   "cell_type": "markdown",
   "metadata": {},
   "source": [
    "## 2.1 HTTP基本原理"
   ]
  },
  {
   "cell_type": "markdown",
   "metadata": {},
   "source": [
    "###  2.1.1 URI 和 URL\n",
    "URL的全称为 UniformResource Identifier，即统一资源标志符， URL 的全称为 Universal Resource Locator，即统一资源定位符 。\n",
    "\n",
    "URL 是 U阳的子集，也就是说每个 URL 都是 URI，但不是每个 URI 都是 URL。 那么，怎样的 URI不是 U也 呢? u阳还包括一个子类叫作 URN，它的全称为 Universal Resource Name，即统一资 源、名称 。 UR1叫只命名资源而不指定如何定位资源，比如 um:isbn:0451450523 指定了一本书的 ISBN,"
   ]
  },
  {
   "cell_type": "markdown",
   "metadata": {},
   "source": [
    "### 2.1.2 超文本\n",
    "hypertext\n",
    "在浏览棉里看到的网 页就是超文本解析而成的， 其网页源代码是一系列 HTML代码， 里面包含了一系列标签，比如 img显 示图片， p 指定显示段落等\n",
    "网页的源代 码 HTML 就可以称作超文本 "
   ]
  },
  {
   "cell_type": "markdown",
   "metadata": {},
   "source": [
    "### 2.1.3 HTTP 和 HTTPS\n",
    "URL 的开头会有 http或 https，这就是访问资源需要的 协议类型。 有时，我们还会看到ftp、 sftp、 smb开头的URL，它们都是协议类型\n",
    "\n",
    "HTTP 的全称是 Hyper Text Transfer Protocol，中文名 叫作超文本传输协议 。 HTTP 协议是用于从 网络传输超文本数据到本地浏览器的传送协议，它能保证高效而准确地传送超文本文档。\n",
    "\n",
    "HTTPS 的全称是 Hyper Text Transfer Protocol over Secure Socket Layer，是以安全为目标的 HTTP通道，简单讲是 HTTP的安全版， 即 HTTP下加入 SSL层，简称为 HTTPS。\n",
    "\n",
    "HTTPS 的安全基础是SSL,数据都经过SSL加密。\n",
    "爬取这样的站点，就需要设置忽略证书的选项，否则会提示 SSL链接错误。"
   ]
  },
  {
   "cell_type": "markdown",
   "metadata": {},
   "source": [
    "### 2.1.4 HTTP请求过程\n",
    "crhome ==> inspect ==> network 查看请求过程\n",
    "\n",
    " Response Headers 和 Request Headers"
   ]
  },
  {
   "cell_type": "markdown",
   "metadata": {},
   "source": [
    "### 2.1.5 请求\n",
    "请求，由客户端向服务端发出，可以分为 4部分内容:\n",
    "\n",
    "请求方法Request Method: GET & POST\n",
    "\n",
    "    GET: URL, 最多2014字节，\n",
    "    POST: 表单提交请求，比如登陆，上传文件\n",
    "\n",
    "请求的网址Request URL\n",
    "\n",
    "请求头Request Headers:用来说明服务器要使用的附加信息，比较重要的信息有 Cookie、 Referer、 User-Agent等,\n",
    "\n",
    "Accept:请求报头域，用于指定客户端可接受哪些类型的信息。\n",
    "Accept-Language:指定客户端可接受的语言类型 。\n",
    "Accept-Encoding:指定客户端可接受的内容编码。\n",
    "Host:用于指定请求资源的主机 IP 和端口号，其内容为请求 URL 的原始服务器或网关的位\n",
    "置。 从HTTP1.l版本开始，请求必须包含此内容。\n",
    "Cookie:也常用复数形式 Cookies，这是网站为了辨别用户进行会话跟踪而存储在用户本地\n",
    "的数据 。 它的主要功能是维持当前访问会话 。 例如，我们输入用户名和密码成功登录某个网 站后，服务器会用会话保存登录状态信息，后面我们每次刷新或请求该站点的其他页面时， 会发现都是登录状态，这就是 Cookies 的功劳。 Cookies里有信息标识了我们所对应的服务器 的会话，每次浏览器在请求该站点的页面时，都会在请求头中加上 Cookies 并将其发送给服 务器，服务器通过 Cookies 识别出是我们自己，并且查出当前状态是登录状态，所以返回结 果就是登录之后才能看到的网页内容 。\n",
    "Referer:此内容用来标识这个请求是从哪个页面发过来的，服务器可以拿到这一信息并做相 应的处理，如做来源统计、防盗链处理等 。\n",
    "User-Agent:简称 UA，它是一个特殊的字符串头，可以使服务器识别客户使用的操作系统\n",
    "及版本 、 浏览器及版本等信息 。 在做爬虫时加上此信息，可以伪装为浏览器;如果不加，很\n",
    "可能会被识别州为爬虫 。\n",
    "Content-Type:也叫互联网媒体类型( Internet Media Type )或者 MIME类型，在 HTTP协议\n",
    "消息头中，它用来表示具体请求中的媒体类型信息 。 例如， text/html 代表 HTML 格式， image/gif代表 GIF 图片， application/json代表 JSON类型，更多对应关系可以查看此对照表 : http://tool.oschina.net/commons。\n",
    "因此，请求头是请求的重要组成部分，在写爬虫时，大部分情况下都需要设定请求头 。\n",
    "\n",
    "请求体Request Body:\n",
    "请求体-般承载的内容是 POST请求中的表单数据，而对于 GET请求，请求体则为空"
   ]
  },
  {
   "cell_type": "markdown",
   "metadata": {},
   "source": [
    "### 2.1.6 晌应\n",
    "响应状态码Response Status Code： 200代表服务器正常响应， 404代表页面未找到， 500代表 服务器内部发生错误 \n",
    "\n",
    "响应头Response Headers: 响应头包含了服务器对请求的应答信息\n",
    "\n",
    "Date: 标识 响应产生 的时间 。\n",
    "Last-Modified: 指定资源的最后修改时间。\n",
    "Content-Encoding: 指定 响应 内容的编码 。\n",
    "Server: 包含服务器的信息，比如名称、版本号等。\n",
    "Content-Type: 文档类型，指定返回的数据类型是什么，如 text/html代表返回 HTML文档，\n",
    "application/x-javascript !J!U代表返回 JavaScript文件， image/jpeg则代表返回图片 。\n",
    "Set-Cookie: 设置 Cookies。 响应头 中的 Set-Cookie 告诉浏览器需要将此内容放在 Cookies中， 下次请求携带 Cookies请求。\n",
    "Expires: 指定响应的过期时间 ， 可以使代理服务器或浏览器将加载的内容更新到缓存巾。 如 果再次访问时，就可以直接从缓存中加载， 降低服务器负载，缩短加载时间。\n",
    "\n",
    "响应体Response Body:\n",
    "做爬虫请求网页后，要解析的内容就是响应体"
   ]
  },
  {
   "cell_type": "markdown",
   "metadata": {},
   "source": [
    "## 2.2 网页基础: 了解网页的基本组成、结构和节点等内容"
   ]
  },
  {
   "cell_type": "markdown",
   "metadata": {},
   "source": [
    "### 2.2.1 网页的组成\n",
    "三大部分一一 \n",
    "HTML相当于骨架:\n",
    "JavaScript相当于肌肉:\n",
    "简称 JS， 是一种脚本语言。 HTML和 css配合使用， 提供给用户的只是一种静态信 息，缺乏交互性。 我们在网页里可能会看到一些交互和动画效果，如下载进度条、提示框、 轮播图等， 这通常就是 JavaScript 的功劳\n",
    "\n",
    "css相当于皮肤:\n",
    "css，全称叫作 CascadingStyle Sheets，即层叠样式表。“层叠”是指当在 HTML 中引用了数个样 式文件，并且样式发生冲突时，浏览器能依据层叠顺序处理。“样式”指网页中文字大小 、 颜色 、元 素间距、排列等格式 。\n",
    "**HTML 定义了网页的内容和结构， css 描述了网 页的布局， JavaScript 定义了网页的\n",
    "行为 。**"
   ]
  },
  {
   "cell_type": "markdown",
   "metadata": {},
   "source": [
    "### 2.2.2 网页的结构\n",
    "### 2.2.3 节点树及节点间的关系\n",
    "在 HTML 中，所有标签定义的内容都是节点，它们构成了一个HTML DOM树。DOM 是 W3C (万维网联盟)的标准，其英文全称 DocumentO均巳ct Model， 即文档对象模型。 它定义了访问HTML和XML文档的标准:\n",
    "\n",
    "W3CDOM标准被分为 3个不同的部分。\n",
    "口核心 DOM :针对任何结构化文档的标准模型 。 口 XML DOM : 针对 XML 文挡的标准模型 。\n",
    "口 HTML DOM : 针对 HTML 文档的标准模型 。\n",
    "\n",
    "根据 W3C 的 HTML DOM 标准， HTML 文档中的所有内容都是节点 。\n",
    "口 整个文档是一个文档节点。\n",
    "口 每个 HTML元素是元素节点。\n",
    "口 HTML元素内的文本是文本节点。 口 每个 HTML 属性是属性节点 。\n",
    "口 注释是注释节点 。\n",
    "\n",
    "树中的所有节点均可通过 JavaScript访问，所有 HTML节点元素均可被修改，\n",
    "也可以被创建或删除 。\n",
    "节点树中的节点彼此拥有层级关系 。 我们常用父( parent)、子( child )和兄弟( sibling )等术语\n",
    "描述这些关系。"
   ]
  },
  {
   "cell_type": "markdown",
   "metadata": {},
   "source": [
    "### 2.2.4 选择器\n",
    "在 css中，我们使用 css选择器来定位节点\n",
    "例中 div节点的 id为 container，那么就 可以表示为#container，其中#开头代表选择 id，其后紧跟 id 的名称 。 另外，如果我们想选择 class 为 wrapper 的节点 ，便可以使用 .wrapper，这里以点(.)开头代表选择 class，其后紧跟 class 的名称 \n",
    "\n",
    "还有一个 xpath"
   ]
  },
  {
   "cell_type": "markdown",
   "metadata": {},
   "source": [
    "## 2.3 爬虫的基本原理\n",
    "可以把节点间的连线比作网页与 网页之间的链接关系，这样蜘蛛通过一个节点后，可以顺着节点连线继续爬行到达下一个节点，即通 过一个网页继续获取后续的网页，这样整个网的节点便可以被蜘蛛全部爬行到，网站的数据就可以被 抓取下来了 。"
   ]
  },
  {
   "cell_type": "markdown",
   "metadata": {},
   "source": [
    "### 2.3.1 爬虫概述： 爬虫就是获取网页并提取和保存信息的自动化程序\n",
    "\n",
    "1. 获取网页: urllib、 requests等\n",
    "2. 提取信息: \n",
    "\n",
    "最通用的方法便是采用正则表达式提取，这是一个万能的方法，但是在构造正则表达式时比较复杂且容易出错\n",
    "    \n",
    "css选择器或XPath来 提取网页信息的库，如 Beautiful Soup、 pyquery、 lxml等 。 使用这些库\n",
    "3. 保存数据: TXT 文本, JSON 文本，也可以保存到数据库，如 MySQL 和 MongoDB \n",
    "4. 自动化程序\n",
    "\n",
    "### 2.3.2 能抓怎样的数据\n",
    "而最常\n",
    "抓取的便是 HTML 源代码 。\n",
    "另外，可能有些网页返回 的不是 HTML 代码，而是一个 JSON 字符串(其中 API接口大多采用这\n",
    "样的形式)，这种格式的数据方便传输和解析，它们同样可以抓取，而且数据提取更加方便 。\n",
    "此外 ，我们还可以看到各种二进制数据，如图片 、视频和音频等。 利用爬虫，我们可以将这些二\n",
    "进制数据抓取下来，然后保存成对应的文件名 。\n",
    "\n",
    "### 2.3.3 JavaScript渲染页面\n",
    "有时候，我们在用 时lib或 requ曰“抓取网页时，得到的源代码实际和浏览器中看到的不一样\n",
    " 时，这是一个非常常见的问题。 现在网页越来越多地采用 Ajax、前端模块化工具来构建，整个网页可 能都是由 JavaScript渲染出来的，也就是说原始的 HTML代码就是一个空壳，\n",
    " \n",
    " 用urllib或 requests等库请求当前页面时，我们得到的只是这个 HTML代码，它不会帮助 我们去继续加载这个 JavaScript文件，这样也就看不到浏览器中的内容了 。\n",
    " \n",
    "对于这样的情况，我们可以分析其后台 Ajax接口，也可使用 Selenium、 Splash这样的库来实现模拟 JavaScript渲染 。"
   ]
  },
  {
   "cell_type": "markdown",
   "metadata": {},
   "source": [
    "## 2.4 会话和 Cookies\n",
    "会话 (Session )和 Cookies 的相关知识"
   ]
  },
  {
   "cell_type": "markdown",
   "metadata": {},
   "source": [
    "### 2.4. 1 静态网页和动态网页\n",
    "### 2.4.2 无状态 HTTP\n",
    "HTTP 的无状态是指 HTTP 协议对事务处理是没有记忆能力的，也就是说服务器不知道客户端是 什么状态\n",
    "1.会话\n",
    "在 Web 中，会话对象用来存储特定用户会话所需的属性及配置信息 。 这样，当用户在应用程序 的 Web 页之间跳转时，存储在会话对象中的变量将不会丢失，而是在整个用户 会话 中一直存在下去 。\n",
    "\n",
    "2. Cookies\n",
    "cookies指某些网站为了辨别用户身份 、 进行会话跟踪而存储在用户本地终端上的数据\n",
    "\n",
    "会话维持\n",
    "Cookies 和会话需要配合，一个处于客户端，一个处于服务端，二者共同协作，就实现了\n",
    "登录会话控制 。\n",
    "\n",
    "属性结构: 看看 Cookies 都有哪些内容 \n",
    "口 Name : 该 Cookie 的名称 。一旦创建，该名称便不可更改 。\n",
    "口 Value: 该 Cookie的值。 如果值为 Unicode字符，需要为字符编码。 如果值为二进制数据，则\n",
    "需要使用 BASE64编码\n",
    "口 口\n",
    "Domain:可以访问该 Cookie的域名 。 例如，如果设置为 .zhihu.com，则所有以 zhihu.com结尾 的域名都可以访问该 Cookie。\n",
    "MaxAge: 该 Cookie失效的时间， 单位为秒，也常和 Expires一起使用，通过它可以计算「I\\其 有效时间。 MaxAge如果为正数，贝lj该Cookie在MaxAge秒之后失效。 如果为负数，则关闭 浏览器时 Cookie 即失效，浏览器也不会以任何形式保存该 Cookie。\n",
    "口\n",
    "Path : 该 Cookie 的使 用路径 。 如果设置为/path/，则只有路径为 /path/的页面可以访问该\n",
    "Cookie。 如果设置为人 则本域名下的所有页面都可以访问该 Cookie。\n",
    "口 Size字段: 此 Cookie的大小。\n",
    "口 HTTP 字段: Cookie 的 httponly 属性 。 若此属性为 true，则只有在 HTTP 头中会带有此\n",
    "Cookie的信息，而不能通过 document.cookie来访问此 Cookie。\n",
    "口 Secure: 该 Cookie 是否仅被使用安全协议传输 。 安全协议有 HTTPS 和 SSL 等，在 网络上传\n",
    "输数据之前先将数据加密 。 默认为 false。"
   ]
  },
  {
   "cell_type": "markdown",
   "metadata": {},
   "source": [
    "### 2.4.3 常见误区\n",
    "程序一般 都是在我们做注销操作时才去删除会话 。"
   ]
  },
  {
   "cell_type": "markdown",
   "metadata": {},
   "source": [
    "## 2.5 代理的基本原理\n",
    "### 2.5.1 基本原理\n",
    "### 2.5.2 代理的作用\n",
    "口 突破自身 IP访问限制，访问 一些平 时不能访问的站点 。\n",
    "口 访问一些单位或团体内部资惊 :比如使用教育网内地址段免费代理服务器，就可以用于对教\n",
    "育网开放的各类 FTP下载上传，以及各类资料查询共享等服务。\n",
    "口 提高访问速度:通常代理服务器都设置一个较大的硬盘缓冲区，当有外界的信息通过时，同\n",
    "时也将·其保存到缓 冲区中，当其他用户再访问相同的信息时，则直接由缓冲区中取出信息，\n",
    "传给用户，以提高访问速度 。\n",
    "口 隐藏丘实 IP: 上网者也可以通过这种方法隐藏向己的 E ， 免受攻击 。 对于爬虫来说，我们用\n",
    "代理就是为了隐藏向 身 IP，防止 向身的 IP被封锁。\n",
    "\n",
    "### 2.5.3 爬虫代理\n",
    "\n",
    "### 2.5.4 代理分类\n",
    "1. 根据协议区分 根据代理的协议，代理可以分为如下类别 。\n",
    "口 FTP代理服务器: 主要用于访问 FTP服务器， 一般有上传、 下载以及缓存功能，端口一般为 21、 2121等。\n",
    "口 HTTP 代理服务器: 主要用于访问网页，一般有内容过滤和缓存功能，端口 一般为 80、 8080 、 3128 等 。\n",
    "口 SSL厅LS代理: 主要用于访问加密网站， 一般有 SSL或 TLS加密功能(最高支持 128位加密 强度)，端口一般为 443。\n",
    "口 RTSP 代理: 主要用于访问 Real流媒体服务器， 一般有缓存功能，端口 一般为 554。\n",
    "口 Telnet代理: 主要用于 telnet远程控制(黑客人侵计算机时常用于隐藏身份)，端口 一般为 23。 口 POP3/SMTP 代理: 主要用于 POP3/SMTP方式收发邮件， 一般有缓存功能，端口 一般为 110/25。 口 SOCKS 代理: 只是单纯传递数据包，不关心具体协议和用法，所以速度快很 多 ， 一般有 缓\n",
    "存功能，端口一般为 1080。 SOCKS代理协议又分为 SOCKS4和 SOCKS5，前者只支持 TCP, 而后者支持 TCP 和 UDP，还支持各种身份验证机制、服务器端域名解析等。 简单来说， SOCKS4能做到的 SOCKS5都可以做到，但 SOCKS5能做到的 SOCKS4不一定能做到。\n",
    "\n",
    "2 根据匿名程度区分\n",
    "根据代理的匿名程度，代理可以分为如下类别 。\n",
    "口高度匿名代理: 会将数据包原封不动地转发，在服务端看来就好像真的是一个普通客户端在 访问，而记录的 IP是代理服务器的 IP。\n",
    "口普通匿名代理: 会在数据包上做一些改动 ， 服务端上有可能发现这是个代理服务器，也有一定几 率追查到客户端的真实 E。 代理服务器通常会加入的 Hπ?头有 HTTP VIA和 HTTP X FOR帆 DED FOR。 口透明代理: 不但改动了数据包 还会告诉服务器客户端的 真实 IP。 这种代理除了能用缓存技\n",
    "术提高浏览速度，能用内容过滤提高安全性之外，并无其他显著作用，最常见的例子是内网 巾的硬件防火墙 。\n",
    "口间谍代理: 指组织或个人创建的用于记录用户传输的数据，然后进行研究 、 监控等 目的的代 理服务器 。\n",
    "\n",
    "### 2.5.5 常见的代理设置\n",
    "口使用网上的免费代理: 最好使用高匿代理 ， 另外可用的代理不多，需要在使用前筛选一下可 用代理，也可以进一步维护一个代理池 。\n",
    "E’\n",
    "口使用付费代理服务: 互联网上存在许多代理商，可以付费使用， 质量比免费代理好很多。 ·四 口 ADSL 拨号 :拨一次号换一次 E ，稳定性高，也是一种比较有效的解决方案 。"
   ]
  }
 ],
 "metadata": {
  "kernelspec": {
   "display_name": "Python [default]",
   "language": "python",
   "name": "python3"
  },
  "language_info": {
   "codemirror_mode": {
    "name": "ipython",
    "version": 3
   },
   "file_extension": ".py",
   "mimetype": "text/x-python",
   "name": "python",
   "nbconvert_exporter": "python",
   "pygments_lexer": "ipython3",
   "version": "3.6.6"
  }
 },
 "nbformat": 4,
 "nbformat_minor": 2
}
