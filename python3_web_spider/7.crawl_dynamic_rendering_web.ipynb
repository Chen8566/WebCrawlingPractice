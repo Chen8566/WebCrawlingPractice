{
 "cells": [
  {
   "cell_type": "code",
   "execution_count": 52,
   "metadata": {},
   "outputs": [],
   "source": [
    "from selenium import webdriver\n",
    "from selenium.webdriver.common.by import By\n",
    "from selenium.webdriver.common.keys import Keys\n",
    "from selenium.webdriver.support import expected_conditions as EC\n",
    "from selenium.webdriver.support.wait import WebDriverWait\n",
    "from selenium.webdriver import ActionChains\n",
    "from selenium.common.exceptions import TimeoutException, NoSuchElementException\n",
    "import time"
   ]
  },
  {
   "cell_type": "markdown",
   "metadata": {},
   "source": [
    "      初始化:   \n",
    "        browser = webdriver.Chrome()\n",
    "        browser = webdriver.Firefox()\n",
    "        browser = webdriver.Edge()\n",
    "        browser = webdriver.PhantomJS()\n",
    "        browser = webdriver.Safari()"
   ]
  },
  {
   "cell_type": "code",
   "execution_count": 4,
   "metadata": {},
   "outputs": [],
   "source": [
    "# simple example\n",
    "browser = webdriver.Chrome()\n",
    "try:\n",
    "    browser.get('https://www.baidu.com')\n",
    "    input_text = browser.find_element_by_id('kw')\n",
    "    input_text.send_keys('Python')\n",
    "    time.sleep(2)\n",
    "    input_text.send_keys(Keys.ENTER)\n",
    "    time.sleep(2)\n",
    "    wait = WebDriverWait(browser, 10)\n",
    "    wait.until(EC.presence_of_element_located((By.ID, 'content_left')))\n",
    "    print(browser.current_url)\n",
    "    print(browser.get_cookies())\n",
    "    print(browser.page_source)\n",
    "finally:\n",
    "    time.sleep(2)\n",
    "    browser.close()"
   ]
  },
  {
   "cell_type": "markdown",
   "metadata": {},
   "source": [
    "    获取节点的方式:\n",
    "        find_element()\n",
    "        find_element_by_id()\n",
    "        find_element_by_name()\n",
    "        find_element_by_xpath()\n",
    "        find_element_by_link_text()\n",
    "        find_element_by partial_link_text()\n",
    "        find_element_by_tag_name()\n",
    "        find_element_by_class_name()\n",
    "        find_element_by_css_selector()\n",
    "        \n",
    "     多个节点: 返回列表类型\n",
    "        find_elements()\n",
    "        find_elements_by_id()\n",
    "        find_elements_by_name()\n",
    "        find_elements_by_xpath()\n",
    "        find_elements_by_link_text()\n",
    "        find_elements_by partial_link_text()\n",
    "        find_elements_by_tag_name()\n",
    "        find_elements_by_class_name()\n",
    "        find_elements_by_css_selector()\n",
    " \n",
    "     节点交互:\n",
    "         send_keys()\n",
    "         clear()\n",
    "         click()\n",
    "[更多资料](https://selenium-python.readthedocs.io/api.html#module-selenium.webdriver.remote.webelement)\n",
    "\n",
    "        动作链: 一些操作，它们没有特 定的 执行对象，比如鼠标拖曳 、 键盘按键等，这些动作用另一种方式来执行，那就是动作链"
   ]
  },
  {
   "cell_type": "code",
   "execution_count": 17,
   "metadata": {},
   "outputs": [],
   "source": [
    "browser = webdriver.Chrome()\n",
    "url = 'http://www.runoob.com/try/try.php?filename=jqueryui-api-droppable'\n",
    "browser.get(url)\n",
    "\n",
    "browser.switch_to.frame('iframeResult')\n",
    "source = browser.find_element_by_css_selector('#draggable')\n",
    "target = browser.find_element_by_css_selector('#droppable')\n",
    "actions = ActionChains(browser)\n",
    "actions.drag_and_drop(source, target)\n",
    "actions.perform()"
   ]
  },
  {
   "cell_type": "code",
   "execution_count": 24,
   "metadata": {},
   "outputs": [],
   "source": [
    "# 执行JS 补充API没有提供的所有功能\n",
    "browser = webdriver.Chrome()\n",
    "browser.get('https://www.zhihu.com/explore')\n",
    "browser.execute_script('window.scrollTo(0, document.body.scrollHeight)') # 将进度条下拉到最底部\n",
    "browser.execute_script('alert(\"To Bottom\")') # 然后弹出alert提示框"
   ]
  },
  {
   "cell_type": "code",
   "execution_count": 25,
   "metadata": {},
   "outputs": [],
   "source": [
    "# 获取节点信息: page_source 来获取网页源代码 ==> 然后用 BeautifulSoup or pyquery\n",
    "# 不过 selenium 有内置的方法和属性\n",
    "# .get_attribute('XX') .text\n",
    "# .id .location .tag_name .size"
   ]
  },
  {
   "cell_type": "code",
   "execution_count": 29,
   "metadata": {},
   "outputs": [
    {
     "name": "stdout",
     "output_type": "stream",
     "text": [
      "No LOGO\n",
      "<selenium.webdriver.remote.webelement.WebElement (session=\"264b0a7017ef716dd813cac67fbda55d\", element=\"0.5457911273596328-2\")>\n",
      "RUNOOB.COM\n"
     ]
    }
   ],
   "source": [
    "# 切换 Frame\n",
    "browser = webdriver.Chrome()\n",
    "url = 'http://www.runoob.com/try/try.php?filename=jqueryui-api-droppable'\n",
    "browser.get(url)\n",
    "browser.switch_to.frame('iframeResult') # 切换到子Frame 里面\n",
    "try:\n",
    "    logo = browser.find_element_by_class_name('logo') # 尝试获取父级 Frame 里的 logo 节点(这是不能找到的)\n",
    "except NoSuchElementException:\n",
    "    print('No LOGO')\n",
    "browser.switch_to.parent_frame() # 重新切换回父级 Frame,\n",
    "logo = browser.find_element_by_class_name('logo')\n",
    "print(logo)\n",
    "print(logo.text)"
   ]
  },
  {
   "cell_type": "markdown",
   "metadata": {},
   "source": [
    "延时等待\n",
    "\n",
    "* 隐式等待：如果 Selenium没有在DOM中找到节点，将继续等待，超出设定时间后，则抛出找不到节点的异常\n",
    "* ✅显示等待：它指定要查找的节点，然后指定一个最长等待时间。 如果 在规定时间内加载出来了这个节点，就返回查找的节点 ; 如果到了规定时间依然没有加载出该节点， 则抛出超时异常。"
   ]
  },
  {
   "cell_type": "code",
   "execution_count": 30,
   "metadata": {},
   "outputs": [
    {
     "name": "stdout",
     "output_type": "stream",
     "text": [
      "<selenium.webdriver.remote.webelement.WebElement (session=\"368298b2974cd7792aa174b78bc0d420\", element=\"0.9315536271186435-1\")>\n"
     ]
    }
   ],
   "source": [
    "browser = webdriver.Chrome()\n",
    "browser.implicitly_wait(10) # 隐式等待\n",
    "browser.get('https://www.zhihu.com/explore')\n",
    "input_ele = browser.find_element_by_class_name('zu-top-add-question')\n",
    "print(input_ele)"
   ]
  },
  {
   "cell_type": "code",
   "execution_count": 31,
   "metadata": {},
   "outputs": [
    {
     "name": "stdout",
     "output_type": "stream",
     "text": [
      "<selenium.webdriver.remote.webelement.WebElement (session=\"ea0aea3af13c8fd525bf55b0dd6c59c0\", element=\"0.536513994798206-1\")> <selenium.webdriver.remote.webelement.WebElement (session=\"ea0aea3af13c8fd525bf55b0dd6c59c0\", element=\"0.536513994798206-2\")>\n"
     ]
    }
   ],
   "source": [
    "browser = webdriver.Chrome()\n",
    "browser.get('https://www.taobao.com')\n",
    "wait = WebDriverWait(browser, 10)\n",
    "input_ele = wait.until(EC.presence_of_element_located((By.ID, 'q')))\n",
    "button_ele = wait.until(EC.element_to_be_clickable((By.CSS_SELECTOR, '.btn-search')))\n",
    "print(input_ele, button_ele)"
   ]
  },
  {
   "cell_type": "markdown",
   "metadata": {},
   "source": [
    "等待条件及含义\n",
    "\n",
    "| 条件 | 含义 |\n",
    "| :-- | -:- |\n",
    "| title_is ||\n",
    "| presence_of_element_located ||\n",
    "| visibility_of_element_located ||\n",
    "| visibility_of ||\n",
    "| presence_of_all_elements_located ||\n",
    "| text_to_be_present_in_element ||\n",
    "| text_to_be_present_in_element_value ||\n",
    "| frame_to_be_available_and_switch_to_it ||\n",
    "| invisibility_of_element_located ||\n",
    "| element_to_be_clickable ||\n",
    "| staleness_of ||\n",
    "| element_to_be_selected ||\n",
    "| element_located_to_be_selected ||\n",
    "| element_selection_state_to_be ||\n",
    "| element_located_selection_state_to_be ||\n",
    "| alert_is_present ||\n",
    "\n",
    "前进后退 \n",
    "    \n",
    "    browser.forward() browser.back()"
   ]
  },
  {
   "cell_type": "code",
   "execution_count": 32,
   "metadata": {},
   "outputs": [
    {
     "name": "stdout",
     "output_type": "stream",
     "text": [
      "[{'domain': '.zhihu.com', 'expiry': 1552411534, 'httpOnly': False, 'name': '__utmz', 'path': '/', 'secure': False, 'value': '51854390.1536643535.1.1.utmcsr=(direct)|utmccn=(direct)|utmcmd=(none)'}, {'domain': '.zhihu.com', 'expiry': 1536645334, 'httpOnly': False, 'name': '__utmb', 'path': '/', 'secure': False, 'value': '51854390.0.10.1536643535'}, {'domain': '.zhihu.com', 'expiry': 1631251531.682091, 'httpOnly': False, 'name': 'q_c1', 'path': '/', 'secure': False, 'value': '8972bac8bb0d4da295ef4b893bf814c3|1536643531000|1536643531000'}, {'domain': '.zhihu.com', 'expiry': 1599715534, 'httpOnly': False, 'name': '_zap', 'path': '/', 'secure': False, 'value': 'dbf1306d-de8a-4720-8ad0-93cc64f91795'}, {'domain': '.zhihu.com', 'expiry': 1539235531.682393, 'httpOnly': False, 'name': 'l_cap_id', 'path': '/', 'secure': False, 'value': '\"Yjg0MWUzNTA0YmIzNGVhMzgzNDc4MTUwMTA3NTk1N2I=|1536643531|992c9d54ff784f3e68633bc0cf04a4cb55d3e756\"'}, {'domain': 'www.zhihu.com', 'expiry': 1536644431.68195, 'httpOnly': False, 'name': 'tgw_l7_route', 'path': '/', 'secure': False, 'value': '9553ebf607071b8b9dd310a140c349c5'}, {'domain': '.zhihu.com', 'expiry': 1539235531.682304, 'httpOnly': False, 'name': 'cap_id', 'path': '/', 'secure': False, 'value': '\"YjlkOWFlYjkwMjc4NDA3ZjhlNmU2OWM1N2Q4MTAwOTQ=|1536643531|031746d43653897b829c204dec24202d5a669248\"'}, {'domain': '.zhihu.com', 'expiry': 1599715534, 'httpOnly': False, 'name': '__utmv', 'path': '/', 'secure': False, 'value': '51854390.000--|3=entry_date=20180911=1'}, {'domain': '.zhihu.com', 'httpOnly': False, 'name': 'n_c', 'path': '/', 'secure': False, 'value': '1'}, {'domain': '.zhihu.com', 'expiry': 1599715534, 'httpOnly': False, 'name': '__utma', 'path': '/', 'secure': False, 'value': '51854390.1678245567.1536643535.1536643535.1536643535.1'}, {'domain': '.zhihu.com', 'httpOnly': False, 'name': '__utmc', 'path': '/', 'secure': False, 'value': '51854390'}, {'domain': '.zhihu.com', 'expiry': 1631251534.155511, 'httpOnly': False, 'name': 'd_c0', 'path': '/', 'secure': False, 'value': '\"AFBnho7ZMQ6PToz5icuPTfDJwRwHzmopU3I=|1536643534\"'}, {'domain': '.zhihu.com', 'expiry': 1539235531.682215, 'httpOnly': False, 'name': 'r_cap_id', 'path': '/', 'secure': False, 'value': '\"MTgyMWExYzJiZTE3NGRjZGE3NWE1ZmQ5YmVjMzJmNWQ=|1536643531|226a77a4707ee6a932fe6511c355cfe1be011e5a\"'}, {'domain': 'www.zhihu.com', 'httpOnly': False, 'name': '_xsrf', 'path': '/', 'secure': False, 'value': 'dcde29b291f572bd2bf8abffcad298a3'}, {'domain': '.zhihu.com', 'httpOnly': False, 'name': 'l_n_c', 'path': '/', 'secure': False, 'value': '1'}]\n",
      "[{'domain': 'www.zhihu.com', 'expiry': 2167363534, 'httpOnly': False, 'name': 'name', 'path': '/', 'secure': True, 'value': 'germey'}, {'domain': '.zhihu.com', 'expiry': 1552411534, 'httpOnly': False, 'name': '__utmz', 'path': '/', 'secure': False, 'value': '51854390.1536643535.1.1.utmcsr=(direct)|utmccn=(direct)|utmcmd=(none)'}, {'domain': '.zhihu.com', 'expiry': 1536645334, 'httpOnly': False, 'name': '__utmb', 'path': '/', 'secure': False, 'value': '51854390.0.10.1536643535'}, {'domain': '.zhihu.com', 'expiry': 1631251531.682091, 'httpOnly': False, 'name': 'q_c1', 'path': '/', 'secure': False, 'value': '8972bac8bb0d4da295ef4b893bf814c3|1536643531000|1536643531000'}, {'domain': '.zhihu.com', 'expiry': 1599715534, 'httpOnly': False, 'name': '_zap', 'path': '/', 'secure': False, 'value': 'dbf1306d-de8a-4720-8ad0-93cc64f91795'}, {'domain': '.zhihu.com', 'expiry': 1539235531.682393, 'httpOnly': False, 'name': 'l_cap_id', 'path': '/', 'secure': False, 'value': '\"Yjg0MWUzNTA0YmIzNGVhMzgzNDc4MTUwMTA3NTk1N2I=|1536643531|992c9d54ff784f3e68633bc0cf04a4cb55d3e756\"'}, {'domain': 'www.zhihu.com', 'expiry': 1536644431.68195, 'httpOnly': False, 'name': 'tgw_l7_route', 'path': '/', 'secure': False, 'value': '9553ebf607071b8b9dd310a140c349c5'}, {'domain': '.zhihu.com', 'expiry': 1539235531.682304, 'httpOnly': False, 'name': 'cap_id', 'path': '/', 'secure': False, 'value': '\"YjlkOWFlYjkwMjc4NDA3ZjhlNmU2OWM1N2Q4MTAwOTQ=|1536643531|031746d43653897b829c204dec24202d5a669248\"'}, {'domain': '.zhihu.com', 'expiry': 1599715534, 'httpOnly': False, 'name': '__utmv', 'path': '/', 'secure': False, 'value': '51854390.000--|3=entry_date=20180911=1'}, {'domain': '.zhihu.com', 'httpOnly': False, 'name': 'n_c', 'path': '/', 'secure': False, 'value': '1'}, {'domain': '.zhihu.com', 'expiry': 1599715534, 'httpOnly': False, 'name': '__utma', 'path': '/', 'secure': False, 'value': '51854390.1678245567.1536643535.1536643535.1536643535.1'}, {'domain': '.zhihu.com', 'httpOnly': False, 'name': '__utmc', 'path': '/', 'secure': False, 'value': '51854390'}, {'domain': '.zhihu.com', 'expiry': 1631251534.155511, 'httpOnly': False, 'name': 'd_c0', 'path': '/', 'secure': False, 'value': '\"AFBnho7ZMQ6PToz5icuPTfDJwRwHzmopU3I=|1536643534\"'}, {'domain': '.zhihu.com', 'expiry': 1539235531.682215, 'httpOnly': False, 'name': 'r_cap_id', 'path': '/', 'secure': False, 'value': '\"MTgyMWExYzJiZTE3NGRjZGE3NWE1ZmQ5YmVjMzJmNWQ=|1536643531|226a77a4707ee6a932fe6511c355cfe1be011e5a\"'}, {'domain': 'www.zhihu.com', 'httpOnly': False, 'name': '_xsrf', 'path': '/', 'secure': False, 'value': 'dcde29b291f572bd2bf8abffcad298a3'}, {'domain': '.zhihu.com', 'httpOnly': False, 'name': 'l_n_c', 'path': '/', 'secure': False, 'value': '1'}]\n",
      "[]\n"
     ]
    }
   ],
   "source": [
    "# 对Cookies操作\n",
    "browser = webdriver.Chrome()\n",
    "browser.get('https://www.zhihu.com/explore')\n",
    "print(browser.get_cookies())\n",
    "browser.add_cookie({'name': 'name', 'domain': 'www.zhihu.com', 'value': 'germey'})\n",
    "print(browser.get_cookies())\n",
    "browser.delete_all_cookies()\n",
    "print(browser.get_cookies())"
   ]
  },
  {
   "cell_type": "code",
   "execution_count": 41,
   "metadata": {},
   "outputs": [
    {
     "name": "stdout",
     "output_type": "stream",
     "text": [
      "['CDwindow-0B6427119F21743F31BFD08176DFA46F', 'CDwindow-50CAA9BB9E377C08AF79538070B282B9']\n"
     ]
    }
   ],
   "source": [
    "# 选项卡管理\n",
    "browser = webdriver.Chrome()\n",
    "browser.get('https://www.baidu.com')\n",
    "browser.execute_script('window.open()') # 新建一个选项卡\n",
    "print(browser.window_handles) # 显示所有选项卡\n",
    "browser.switch_to_window(browser.window_handles[1])\n",
    "browser.get('https://www.taobao.com')\n",
    "time.sleep(1)\n",
    "browser.switch_to_window(browser.window_handles[0])\n",
    "browser.get('https://www.python.org')"
   ]
  },
  {
   "cell_type": "code",
   "execution_count": 34,
   "metadata": {},
   "outputs": [],
   "source": [
    "# 异常处理 try except\n"
   ]
  },
  {
   "cell_type": "code",
   "execution_count": 35,
   "metadata": {},
   "outputs": [
    {
     "name": "stdout",
     "output_type": "stream",
     "text": [
      "['CDwindow-DA2BCC95AB7ED5C9B6BEAFAF04A73B58', 'CDwindow-E980806D6E1BE8A53E7880C76EDC33EB']\n"
     ]
    }
   ],
   "source": []
  },
  {
   "cell_type": "markdown",
   "metadata": {},
   "source": [
    "## 7.2 Splash\n",
    "* 异步方式处理多个网页渲染过程 ;\n",
    "* 获取渲染后的页面的源代码或截图;\n",
    "* 通过关闭图片渲染或者使用Adblock规则来加快页面渲染速度; \n",
    "* 可执行特定的JavaScript脚本;\n",
    "* 可通过Lua脚本来控制页面渲染过程;\n",
    "* 获取渲染的详细过程并通过HAR(HTTP Archive)格式呈现。"
   ]
  },
  {
   "cell_type": "code",
   "execution_count": null,
   "metadata": {},
   "outputs": [],
   "source": []
  },
  {
   "cell_type": "code",
   "execution_count": null,
   "metadata": {},
   "outputs": [],
   "source": []
  },
  {
   "cell_type": "code",
   "execution_count": null,
   "metadata": {},
   "outputs": [],
   "source": []
  },
  {
   "cell_type": "code",
   "execution_count": null,
   "metadata": {},
   "outputs": [],
   "source": []
  },
  {
   "cell_type": "code",
   "execution_count": null,
   "metadata": {},
   "outputs": [],
   "source": []
  },
  {
   "cell_type": "markdown",
   "metadata": {},
   "source": [
    "我们要利用Selenium抓取淘宝商品并用pyquery BeatifulSoup解析得到商品的图片 、名称 、价格、购买人数、店铺名称和店铺所在地信息，并将其保存到 MongoDB。"
   ]
  },
  {
   "cell_type": "code",
   "execution_count": 43,
   "metadata": {},
   "outputs": [],
   "source": [
    "from selenium import webdriver\n",
    "from selenium.common.exceptions import TimeoutException, NoSuchElementException\n",
    "from selenium.webdriver.common.by import By\n",
    "from selenium.webdriver.support import expected_conditions as EC\n",
    "from selenium.webdriver.support.wait import WebDriverWait\n",
    "from urllib.parse import quote\n",
    "from bs4 import BeautifulSoup\n",
    "\n",
    "browser = webdriver.Chrome()\n",
    "wait = WebDriverWait(browser, 10)\n",
    "KEYWORD = 'iPad'\n",
    "\n",
    "def index_page(page):\n",
    "    \"\"\"\n",
    "    抓取索引页\n",
    "    :param page: 页码\n",
    "    \"\"\"\n",
    "    print('正在抓取第', page, '页')\n",
    "    try:\n",
    "        url = 'https://s.taobao.com/search?q=' + quote(KEYWORD)\n",
    "        browser.get(url)\n",
    "        if page > 1:\n",
    "            input_ele = wait.until(EC.presence_of_element_located((By.CSS_SELECTOR, 'input.input.J_Input')))\n",
    "            submit_ele = wait.until(EC.presence_of_element_located((By.CSS_SELECTOR, 'span.btn.J_Submit')))\n",
    "            input_ele.clear()\n",
    "            input_ele.send_keys(page)\n",
    "            submit_ele.click()\n",
    "            # 核对当前页码\n",
    "        wait.until(EC.text_to_be_present_in_element((By.CSS_SELECTOR, 'li.item.active span.num'), str(page)))\n",
    "        # 等待加载商品信息\n",
    "        wait.until(EC.presence_of_element_located((By.CSS_SELECTOR, 'div.items')))\n",
    "        get_products_info()\n",
    "    except Exception as e:\n",
    "        print('something bad happended, reloaded..')\n",
    "        index_page(page)\n",
    "            \n",
    "\n",
    "def get_products_info():\n",
    "    html = browser.page_source\n",
    "    \n",
    "def main():\n",
    "    index_page(10)\n",
    "    \n",
    "\n",
    "if __name__ == \"__main__\":\n",
    "    main()"
   ]
  },
  {
   "cell_type": "markdown",
   "metadata": {},
   "source": [
    "https://s.taobao.com/search?q=ipad&bcoffset=6&ntoffset=6&p4ppushleft=1%2C48&s=0\n",
    "\n",
    "https://s.taobao.com/search?q=ipad&bcoffset=3&ntoffset=3&p4ppushleft=1%2C48&s=44\n",
    "\n",
    "https://s.taobao.com/search?q=ipad&bcoffset=3&ntoffset=0&p4ppushleft=1%2C48&s=88\n",
    "\n",
    "https://s.taobao.com/search?q=ipad&bcoffset=-1&ntoffset=-1&p4ppushleft=1%2C48&s=132"
   ]
  },
  {
   "cell_type": "code",
   "execution_count": 62,
   "metadata": {},
   "outputs": [],
   "source": [
    "from bs4 import BeautifulSoup\n",
    "\n",
    "browser = webdriver.Chrome()\n",
    "browser.get('https://s.taobao.com/search?q=iPad')\n",
    "html = browser.page_source"
   ]
  },
  {
   "cell_type": "code",
   "execution_count": 67,
   "metadata": {},
   "outputs": [],
   "source": [
    "from pyquery import PyQuery as pq\n",
    "soup = BeautifulSoup(html, 'lxml')\n",
    "doc = pq(html)"
   ]
  },
  {
   "cell_type": "code",
   "execution_count": 107,
   "metadata": {},
   "outputs": [
    {
     "data": {
      "text/plain": [
       "'//g-search1.alicdn.com/img/bao/uploaded/i4/imgextra/i1/13022581/TB2HGTAcnCWBKNjSZFtXXaC3FXa_!!0-saturn_solar.jpg'"
      ]
     },
     "execution_count": 107,
     "metadata": {},
     "output_type": "execute_result"
    }
   ],
   "source": [
    "# dir(soup)\n",
    "soup.select('div.item.J_MouserOnverReq')[0].find('img', attrs={'class': 'J_ItemPic img'}).attrs['data-src']"
   ]
  },
  {
   "cell_type": "markdown",
   "metadata": {},
   "source": [
    ".find('img', attrs={'class': 'J_ItemPic img'}).attrs['data-src'] # 图片\n",
    ".find(('div'),  attrs={'class': 'row row-2 title'}).text.strip() # 商品名\n",
    ".find(('div'),  attrs={'class': 'shop'}).text.strip() # 商店名\n",
    ".find(('div'),  attrs={'class': 'location'}).text.strip() # 地点\n",
    ".find(('strong')).text #价格"
   ]
  },
  {
   "cell_type": "code",
   "execution_count": null,
   "metadata": {},
   "outputs": [],
   "source": []
  },
  {
   "cell_type": "code",
   "execution_count": null,
   "metadata": {},
   "outputs": [],
   "source": []
  },
  {
   "cell_type": "code",
   "execution_count": null,
   "metadata": {},
   "outputs": [],
   "source": []
  },
  {
   "cell_type": "code",
   "execution_count": null,
   "metadata": {},
   "outputs": [],
   "source": []
  },
  {
   "cell_type": "code",
   "execution_count": null,
   "metadata": {},
   "outputs": [],
   "source": []
  }
 ],
 "metadata": {
  "kernelspec": {
   "display_name": "Python [conda env:WebCrawlingEnv]",
   "language": "python",
   "name": "conda-env-WebCrawlingEnv-py"
  },
  "language_info": {
   "codemirror_mode": {
    "name": "ipython",
    "version": 3
   },
   "file_extension": ".py",
   "mimetype": "text/x-python",
   "name": "python",
   "nbconvert_exporter": "python",
   "pygments_lexer": "ipython3",
   "version": "3.6.6"
  }
 },
 "nbformat": 4,
 "nbformat_minor": 2
}
